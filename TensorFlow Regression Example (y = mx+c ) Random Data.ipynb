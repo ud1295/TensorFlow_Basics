{
 "cells": [
  {
   "cell_type": "code",
   "execution_count": 1,
   "metadata": {
    "collapsed": true
   },
   "outputs": [],
   "source": [
    "import numpy as np\n",
    "import pandas as pd\n",
    "import matplotlib.pyplot as plt\n",
    "import tensorflow as tf\n",
    "%matplotlib inline"
   ]
  },
  {
   "cell_type": "code",
   "execution_count": 2,
   "metadata": {
    "collapsed": true
   },
   "outputs": [],
   "source": [
    "x_data = np.linspace(0,10,1000000)"
   ]
  },
  {
   "cell_type": "code",
   "execution_count": 3,
   "metadata": {
    "collapsed": true
   },
   "outputs": [],
   "source": [
    "noise = np.random.randn(len(x_data))"
   ]
  },
  {
   "cell_type": "code",
   "execution_count": 4,
   "metadata": {},
   "outputs": [
    {
     "data": {
      "text/plain": [
       "array([ 2.031666  ,  0.64231502,  0.93336287, ...,  0.8403401 ,\n",
       "       -0.49976862, -0.25753677])"
      ]
     },
     "execution_count": 4,
     "metadata": {},
     "output_type": "execute_result"
    }
   ],
   "source": [
    "noise"
   ]
  },
  {
   "cell_type": "markdown",
   "metadata": {},
   "source": [
    "y = mx + b\n",
    "\n",
    "b =5"
   ]
  },
  {
   "cell_type": "code",
   "execution_count": 5,
   "metadata": {
    "collapsed": true
   },
   "outputs": [],
   "source": [
    "y_true = ( 0.5 * x_data ) + 5 + noise      #  to randomize "
   ]
  },
  {
   "cell_type": "code",
   "execution_count": 13,
   "metadata": {},
   "outputs": [],
   "source": [
    "x_df = pd.DataFrame(data=x_data,columns=['X Data'])\n",
    "y_df = pd.DataFrame(data=y_true,columns=['Y'])"
   ]
  },
  {
   "cell_type": "code",
   "execution_count": 14,
   "metadata": {},
   "outputs": [
    {
     "data": {
      "text/html": [
       "<div>\n",
       "<style>\n",
       "    .dataframe thead tr:only-child th {\n",
       "        text-align: right;\n",
       "    }\n",
       "\n",
       "    .dataframe thead th {\n",
       "        text-align: left;\n",
       "    }\n",
       "\n",
       "    .dataframe tbody tr th {\n",
       "        vertical-align: top;\n",
       "    }\n",
       "</style>\n",
       "<table border=\"1\" class=\"dataframe\">\n",
       "  <thead>\n",
       "    <tr style=\"text-align: right;\">\n",
       "      <th></th>\n",
       "      <th>Y</th>\n",
       "    </tr>\n",
       "  </thead>\n",
       "  <tbody>\n",
       "    <tr>\n",
       "      <th>0</th>\n",
       "      <td>7.031666</td>\n",
       "    </tr>\n",
       "    <tr>\n",
       "      <th>1</th>\n",
       "      <td>5.642320</td>\n",
       "    </tr>\n",
       "    <tr>\n",
       "      <th>2</th>\n",
       "      <td>5.933373</td>\n",
       "    </tr>\n",
       "    <tr>\n",
       "      <th>3</th>\n",
       "      <td>5.361022</td>\n",
       "    </tr>\n",
       "    <tr>\n",
       "      <th>4</th>\n",
       "      <td>4.734586</td>\n",
       "    </tr>\n",
       "  </tbody>\n",
       "</table>\n",
       "</div>"
      ],
      "text/plain": [
       "          Y\n",
       "0  7.031666\n",
       "1  5.642320\n",
       "2  5.933373\n",
       "3  5.361022\n",
       "4  4.734586"
      ]
     },
     "execution_count": 14,
     "metadata": {},
     "output_type": "execute_result"
    }
   ],
   "source": [
    "y_df.head()"
   ]
  },
  {
   "cell_type": "code",
   "execution_count": 15,
   "metadata": {},
   "outputs": [],
   "source": [
    "my_data = pd.concat([x_df,y_df], axis = 1)   # add two columns"
   ]
  },
  {
   "cell_type": "code",
   "execution_count": 16,
   "metadata": {},
   "outputs": [
    {
     "data": {
      "text/html": [
       "<div>\n",
       "<style>\n",
       "    .dataframe thead tr:only-child th {\n",
       "        text-align: right;\n",
       "    }\n",
       "\n",
       "    .dataframe thead th {\n",
       "        text-align: left;\n",
       "    }\n",
       "\n",
       "    .dataframe tbody tr th {\n",
       "        vertical-align: top;\n",
       "    }\n",
       "</style>\n",
       "<table border=\"1\" class=\"dataframe\">\n",
       "  <thead>\n",
       "    <tr style=\"text-align: right;\">\n",
       "      <th></th>\n",
       "      <th>X Data</th>\n",
       "      <th>Y</th>\n",
       "    </tr>\n",
       "  </thead>\n",
       "  <tbody>\n",
       "    <tr>\n",
       "      <th>0</th>\n",
       "      <td>0.00000</td>\n",
       "      <td>7.031666</td>\n",
       "    </tr>\n",
       "    <tr>\n",
       "      <th>1</th>\n",
       "      <td>0.00001</td>\n",
       "      <td>5.642320</td>\n",
       "    </tr>\n",
       "    <tr>\n",
       "      <th>2</th>\n",
       "      <td>0.00002</td>\n",
       "      <td>5.933373</td>\n",
       "    </tr>\n",
       "    <tr>\n",
       "      <th>3</th>\n",
       "      <td>0.00003</td>\n",
       "      <td>5.361022</td>\n",
       "    </tr>\n",
       "    <tr>\n",
       "      <th>4</th>\n",
       "      <td>0.00004</td>\n",
       "      <td>4.734586</td>\n",
       "    </tr>\n",
       "  </tbody>\n",
       "</table>\n",
       "</div>"
      ],
      "text/plain": [
       "    X Data         Y\n",
       "0  0.00000  7.031666\n",
       "1  0.00001  5.642320\n",
       "2  0.00002  5.933373\n",
       "3  0.00003  5.361022\n",
       "4  0.00004  4.734586"
      ]
     },
     "execution_count": 16,
     "metadata": {},
     "output_type": "execute_result"
    }
   ],
   "source": [
    "my_data.head()"
   ]
  },
  {
   "cell_type": "code",
   "execution_count": 18,
   "metadata": {},
   "outputs": [
    {
     "data": {
      "text/html": [
       "<div>\n",
       "<style>\n",
       "    .dataframe thead tr:only-child th {\n",
       "        text-align: right;\n",
       "    }\n",
       "\n",
       "    .dataframe thead th {\n",
       "        text-align: left;\n",
       "    }\n",
       "\n",
       "    .dataframe tbody tr th {\n",
       "        vertical-align: top;\n",
       "    }\n",
       "</style>\n",
       "<table border=\"1\" class=\"dataframe\">\n",
       "  <thead>\n",
       "    <tr style=\"text-align: right;\">\n",
       "      <th></th>\n",
       "      <th>X Data</th>\n",
       "      <th>Y</th>\n",
       "    </tr>\n",
       "  </thead>\n",
       "  <tbody>\n",
       "    <tr>\n",
       "      <th>377993</th>\n",
       "      <td>3.779934</td>\n",
       "      <td>8.871287</td>\n",
       "    </tr>\n",
       "    <tr>\n",
       "      <th>293295</th>\n",
       "      <td>2.932953</td>\n",
       "      <td>6.064742</td>\n",
       "    </tr>\n",
       "    <tr>\n",
       "      <th>988580</th>\n",
       "      <td>9.885810</td>\n",
       "      <td>10.593772</td>\n",
       "    </tr>\n",
       "    <tr>\n",
       "      <th>47858</th>\n",
       "      <td>0.478580</td>\n",
       "      <td>7.145153</td>\n",
       "    </tr>\n",
       "    <tr>\n",
       "      <th>636465</th>\n",
       "      <td>6.364656</td>\n",
       "      <td>8.595903</td>\n",
       "    </tr>\n",
       "    <tr>\n",
       "      <th>592322</th>\n",
       "      <td>5.923226</td>\n",
       "      <td>7.457882</td>\n",
       "    </tr>\n",
       "    <tr>\n",
       "      <th>645700</th>\n",
       "      <td>6.457006</td>\n",
       "      <td>8.238202</td>\n",
       "    </tr>\n",
       "    <tr>\n",
       "      <th>856811</th>\n",
       "      <td>8.568119</td>\n",
       "      <td>8.544878</td>\n",
       "    </tr>\n",
       "    <tr>\n",
       "      <th>752875</th>\n",
       "      <td>7.528758</td>\n",
       "      <td>7.700521</td>\n",
       "    </tr>\n",
       "    <tr>\n",
       "      <th>361225</th>\n",
       "      <td>3.612254</td>\n",
       "      <td>7.126985</td>\n",
       "    </tr>\n",
       "    <tr>\n",
       "      <th>604489</th>\n",
       "      <td>6.044896</td>\n",
       "      <td>8.752240</td>\n",
       "    </tr>\n",
       "    <tr>\n",
       "      <th>784336</th>\n",
       "      <td>7.843368</td>\n",
       "      <td>9.400731</td>\n",
       "    </tr>\n",
       "    <tr>\n",
       "      <th>561897</th>\n",
       "      <td>5.618976</td>\n",
       "      <td>7.087807</td>\n",
       "    </tr>\n",
       "    <tr>\n",
       "      <th>874934</th>\n",
       "      <td>8.749349</td>\n",
       "      <td>8.691194</td>\n",
       "    </tr>\n",
       "    <tr>\n",
       "      <th>543234</th>\n",
       "      <td>5.432345</td>\n",
       "      <td>7.242974</td>\n",
       "    </tr>\n",
       "    <tr>\n",
       "      <th>118214</th>\n",
       "      <td>1.182141</td>\n",
       "      <td>6.140896</td>\n",
       "    </tr>\n",
       "    <tr>\n",
       "      <th>321493</th>\n",
       "      <td>3.214933</td>\n",
       "      <td>5.970572</td>\n",
       "    </tr>\n",
       "    <tr>\n",
       "      <th>939204</th>\n",
       "      <td>9.392049</td>\n",
       "      <td>10.712422</td>\n",
       "    </tr>\n",
       "    <tr>\n",
       "      <th>59391</th>\n",
       "      <td>0.593911</td>\n",
       "      <td>6.192941</td>\n",
       "    </tr>\n",
       "    <tr>\n",
       "      <th>669219</th>\n",
       "      <td>6.692197</td>\n",
       "      <td>8.884091</td>\n",
       "    </tr>\n",
       "    <tr>\n",
       "      <th>151667</th>\n",
       "      <td>1.516672</td>\n",
       "      <td>4.757753</td>\n",
       "    </tr>\n",
       "    <tr>\n",
       "      <th>208682</th>\n",
       "      <td>2.086822</td>\n",
       "      <td>8.189758</td>\n",
       "    </tr>\n",
       "    <tr>\n",
       "      <th>111019</th>\n",
       "      <td>1.110191</td>\n",
       "      <td>5.097909</td>\n",
       "    </tr>\n",
       "    <tr>\n",
       "      <th>638400</th>\n",
       "      <td>6.384006</td>\n",
       "      <td>8.107431</td>\n",
       "    </tr>\n",
       "    <tr>\n",
       "      <th>381009</th>\n",
       "      <td>3.810094</td>\n",
       "      <td>5.805058</td>\n",
       "    </tr>\n",
       "    <tr>\n",
       "      <th>443786</th>\n",
       "      <td>4.437864</td>\n",
       "      <td>7.744383</td>\n",
       "    </tr>\n",
       "    <tr>\n",
       "      <th>424411</th>\n",
       "      <td>4.244114</td>\n",
       "      <td>7.185125</td>\n",
       "    </tr>\n",
       "    <tr>\n",
       "      <th>14927</th>\n",
       "      <td>0.149270</td>\n",
       "      <td>5.704637</td>\n",
       "    </tr>\n",
       "    <tr>\n",
       "      <th>407395</th>\n",
       "      <td>4.073954</td>\n",
       "      <td>7.743732</td>\n",
       "    </tr>\n",
       "    <tr>\n",
       "      <th>376756</th>\n",
       "      <td>3.767564</td>\n",
       "      <td>8.207617</td>\n",
       "    </tr>\n",
       "    <tr>\n",
       "      <th>...</th>\n",
       "      <td>...</td>\n",
       "      <td>...</td>\n",
       "    </tr>\n",
       "    <tr>\n",
       "      <th>489183</th>\n",
       "      <td>4.891835</td>\n",
       "      <td>7.663489</td>\n",
       "    </tr>\n",
       "    <tr>\n",
       "      <th>682926</th>\n",
       "      <td>6.829267</td>\n",
       "      <td>8.522715</td>\n",
       "    </tr>\n",
       "    <tr>\n",
       "      <th>770346</th>\n",
       "      <td>7.703468</td>\n",
       "      <td>8.234978</td>\n",
       "    </tr>\n",
       "    <tr>\n",
       "      <th>580797</th>\n",
       "      <td>5.807976</td>\n",
       "      <td>6.782876</td>\n",
       "    </tr>\n",
       "    <tr>\n",
       "      <th>763007</th>\n",
       "      <td>7.630078</td>\n",
       "      <td>8.419868</td>\n",
       "    </tr>\n",
       "    <tr>\n",
       "      <th>672195</th>\n",
       "      <td>6.721957</td>\n",
       "      <td>6.659293</td>\n",
       "    </tr>\n",
       "    <tr>\n",
       "      <th>321385</th>\n",
       "      <td>3.213853</td>\n",
       "      <td>6.396561</td>\n",
       "    </tr>\n",
       "    <tr>\n",
       "      <th>481412</th>\n",
       "      <td>4.814125</td>\n",
       "      <td>8.527972</td>\n",
       "    </tr>\n",
       "    <tr>\n",
       "      <th>283313</th>\n",
       "      <td>2.833133</td>\n",
       "      <td>9.568620</td>\n",
       "    </tr>\n",
       "    <tr>\n",
       "      <th>35499</th>\n",
       "      <td>0.354990</td>\n",
       "      <td>6.025351</td>\n",
       "    </tr>\n",
       "    <tr>\n",
       "      <th>523582</th>\n",
       "      <td>5.235825</td>\n",
       "      <td>9.323257</td>\n",
       "    </tr>\n",
       "    <tr>\n",
       "      <th>706591</th>\n",
       "      <td>7.065917</td>\n",
       "      <td>7.975415</td>\n",
       "    </tr>\n",
       "    <tr>\n",
       "      <th>785259</th>\n",
       "      <td>7.852598</td>\n",
       "      <td>7.959268</td>\n",
       "    </tr>\n",
       "    <tr>\n",
       "      <th>717028</th>\n",
       "      <td>7.170287</td>\n",
       "      <td>9.834173</td>\n",
       "    </tr>\n",
       "    <tr>\n",
       "      <th>343725</th>\n",
       "      <td>3.437253</td>\n",
       "      <td>5.613503</td>\n",
       "    </tr>\n",
       "    <tr>\n",
       "      <th>157494</th>\n",
       "      <td>1.574942</td>\n",
       "      <td>5.241558</td>\n",
       "    </tr>\n",
       "    <tr>\n",
       "      <th>150521</th>\n",
       "      <td>1.505212</td>\n",
       "      <td>5.603318</td>\n",
       "    </tr>\n",
       "    <tr>\n",
       "      <th>633930</th>\n",
       "      <td>6.339306</td>\n",
       "      <td>8.853614</td>\n",
       "    </tr>\n",
       "    <tr>\n",
       "      <th>778031</th>\n",
       "      <td>7.780318</td>\n",
       "      <td>8.065031</td>\n",
       "    </tr>\n",
       "    <tr>\n",
       "      <th>227117</th>\n",
       "      <td>2.271172</td>\n",
       "      <td>6.637549</td>\n",
       "    </tr>\n",
       "    <tr>\n",
       "      <th>409449</th>\n",
       "      <td>4.094494</td>\n",
       "      <td>7.754995</td>\n",
       "    </tr>\n",
       "    <tr>\n",
       "      <th>767319</th>\n",
       "      <td>7.673198</td>\n",
       "      <td>8.693749</td>\n",
       "    </tr>\n",
       "    <tr>\n",
       "      <th>291210</th>\n",
       "      <td>2.912103</td>\n",
       "      <td>7.467302</td>\n",
       "    </tr>\n",
       "    <tr>\n",
       "      <th>439436</th>\n",
       "      <td>4.394364</td>\n",
       "      <td>7.463080</td>\n",
       "    </tr>\n",
       "    <tr>\n",
       "      <th>384843</th>\n",
       "      <td>3.848434</td>\n",
       "      <td>6.592040</td>\n",
       "    </tr>\n",
       "    <tr>\n",
       "      <th>471591</th>\n",
       "      <td>4.715915</td>\n",
       "      <td>7.683654</td>\n",
       "    </tr>\n",
       "    <tr>\n",
       "      <th>271362</th>\n",
       "      <td>2.713623</td>\n",
       "      <td>5.538409</td>\n",
       "    </tr>\n",
       "    <tr>\n",
       "      <th>719349</th>\n",
       "      <td>7.193497</td>\n",
       "      <td>7.558484</td>\n",
       "    </tr>\n",
       "    <tr>\n",
       "      <th>349716</th>\n",
       "      <td>3.497163</td>\n",
       "      <td>6.824464</td>\n",
       "    </tr>\n",
       "    <tr>\n",
       "      <th>386478</th>\n",
       "      <td>3.864784</td>\n",
       "      <td>6.954142</td>\n",
       "    </tr>\n",
       "  </tbody>\n",
       "</table>\n",
       "<p>250 rows × 2 columns</p>\n",
       "</div>"
      ],
      "text/plain": [
       "          X Data          Y\n",
       "377993  3.779934   8.871287\n",
       "293295  2.932953   6.064742\n",
       "988580  9.885810  10.593772\n",
       "47858   0.478580   7.145153\n",
       "636465  6.364656   8.595903\n",
       "592322  5.923226   7.457882\n",
       "645700  6.457006   8.238202\n",
       "856811  8.568119   8.544878\n",
       "752875  7.528758   7.700521\n",
       "361225  3.612254   7.126985\n",
       "604489  6.044896   8.752240\n",
       "784336  7.843368   9.400731\n",
       "561897  5.618976   7.087807\n",
       "874934  8.749349   8.691194\n",
       "543234  5.432345   7.242974\n",
       "118214  1.182141   6.140896\n",
       "321493  3.214933   5.970572\n",
       "939204  9.392049  10.712422\n",
       "59391   0.593911   6.192941\n",
       "669219  6.692197   8.884091\n",
       "151667  1.516672   4.757753\n",
       "208682  2.086822   8.189758\n",
       "111019  1.110191   5.097909\n",
       "638400  6.384006   8.107431\n",
       "381009  3.810094   5.805058\n",
       "443786  4.437864   7.744383\n",
       "424411  4.244114   7.185125\n",
       "14927   0.149270   5.704637\n",
       "407395  4.073954   7.743732\n",
       "376756  3.767564   8.207617\n",
       "...          ...        ...\n",
       "489183  4.891835   7.663489\n",
       "682926  6.829267   8.522715\n",
       "770346  7.703468   8.234978\n",
       "580797  5.807976   6.782876\n",
       "763007  7.630078   8.419868\n",
       "672195  6.721957   6.659293\n",
       "321385  3.213853   6.396561\n",
       "481412  4.814125   8.527972\n",
       "283313  2.833133   9.568620\n",
       "35499   0.354990   6.025351\n",
       "523582  5.235825   9.323257\n",
       "706591  7.065917   7.975415\n",
       "785259  7.852598   7.959268\n",
       "717028  7.170287   9.834173\n",
       "343725  3.437253   5.613503\n",
       "157494  1.574942   5.241558\n",
       "150521  1.505212   5.603318\n",
       "633930  6.339306   8.853614\n",
       "778031  7.780318   8.065031\n",
       "227117  2.271172   6.637549\n",
       "409449  4.094494   7.754995\n",
       "767319  7.673198   8.693749\n",
       "291210  2.912103   7.467302\n",
       "439436  4.394364   7.463080\n",
       "384843  3.848434   6.592040\n",
       "471591  4.715915   7.683654\n",
       "271362  2.713623   5.538409\n",
       "719349  7.193497   7.558484\n",
       "349716  3.497163   6.824464\n",
       "386478  3.864784   6.954142\n",
       "\n",
       "[250 rows x 2 columns]"
      ]
     },
     "execution_count": 18,
     "metadata": {},
     "output_type": "execute_result"
    }
   ],
   "source": [
    "my_data.sample(n=250)  #can't p;ot million rows\n"
   ]
  },
  {
   "cell_type": "code",
   "execution_count": 19,
   "metadata": {},
   "outputs": [
    {
     "data": {
      "text/plain": [
       "<matplotlib.axes._subplots.AxesSubplot at 0x1fff0e94d68>"
      ]
     },
     "execution_count": 19,
     "metadata": {},
     "output_type": "execute_result"
    },
    {
     "data": {
      "image/png": "[encoded data removed]",
      "text/plain": [
       "<matplotlib.figure.Figure at 0x1fff0d62f98>"
      ]
     },
     "metadata": {},
     "output_type": "display_data"
    }
   ],
   "source": [
    "my_data.sample(n=250).plot(kind='scatter',x='X Data',y='Y')"
   ]
  },
  {
   "cell_type": "markdown",
   "metadata": {},
   "source": [
    "### million rows is too much to pass at once, so we feed data in batches..."
   ]
  },
  {
   "cell_type": "code",
   "execution_count": 69,
   "metadata": {},
   "outputs": [
    {
     "data": {
      "text/plain": [
       "array([ 0.53408689,  0.49398705])"
      ]
     },
     "execution_count": 69,
     "metadata": {},
     "output_type": "execute_result"
    }
   ],
   "source": [
    "batch_size = 16\n",
    "\n",
    "np.random.randn(2)"
   ]
  },
  {
   "cell_type": "code",
   "execution_count": 70,
   "metadata": {
    "collapsed": true
   },
   "outputs": [],
   "source": [
    "m = tf.Variable(0.60)\n",
    "b = tf.Variable(-0.008)"
   ]
  },
  {
   "cell_type": "markdown",
   "metadata": {},
   "source": [
    "### Steps\n",
    "\n",
    "1. Create Variables\n",
    "2. Create Placeholders\n",
    "3. Define the graph( operations)\n",
    "4. Loss function\n",
    "5. Optimizer to reduce the loss \n",
    "6. Initialize the variables and run"
   ]
  },
  {
   "cell_type": "code",
   "execution_count": 71,
   "metadata": {
    "collapsed": true
   },
   "outputs": [],
   "source": [
    "xph = tf.placeholder(tf.float32,[batch_size])"
   ]
  },
  {
   "cell_type": "code",
   "execution_count": 72,
   "metadata": {
    "collapsed": true
   },
   "outputs": [],
   "source": [
    "yph = tf.placeholder(tf.float32,[batch_size])"
   ]
  },
  {
   "cell_type": "code",
   "execution_count": 73,
   "metadata": {
    "collapsed": true
   },
   "outputs": [],
   "source": [
    "y_model = m * xph + b    #graph"
   ]
  },
  {
   "cell_type": "code",
   "execution_count": 74,
   "metadata": {
    "collapsed": true
   },
   "outputs": [],
   "source": [
    "#we have to reduce this error\n",
    "#yph = true value where y_model = predicted value\n",
    "\n",
    "error = tf.reduce_sum(tf.square(yph - y_model))   #loss function  reducesum of (yph - y_model)**2 \n"
   ]
  },
  {
   "cell_type": "code",
   "execution_count": 75,
   "metadata": {
    "collapsed": true
   },
   "outputs": [],
   "source": [
    "optimizer = tf.train.GradientDescentOptimizer(learning_rate=0.001)"
   ]
  },
  {
   "cell_type": "code",
   "execution_count": 76,
   "metadata": {
    "collapsed": true
   },
   "outputs": [],
   "source": [
    "train = optimizer.minimize(error)"
   ]
  },
  {
   "cell_type": "code",
   "execution_count": 77,
   "metadata": {
    "collapsed": true
   },
   "outputs": [],
   "source": [
    "init = tf.global_variables_initializer()"
   ]
  },
  {
   "cell_type": "code",
   "execution_count": 84,
   "metadata": {},
   "outputs": [],
   "source": [
    "with tf.Session() as sess:\n",
    "    \n",
    "    sess.run(init)\n",
    "    \n",
    "    batches = 10000\n",
    "    \n",
    "    for i in range(batches):\n",
    "        \n",
    "        rand_ind = np.random.randint(len(x_data), size= batch_size)\n",
    "        \n",
    "        feed = {xph:x_data[rand_ind], yph:y_true[rand_ind]}\n",
    "        \n",
    "        sess.run(train,feed_dict = feed)\n",
    "        \n",
    "    model_m , model_b = sess.run([m,b])"
   ]
  },
  {
   "cell_type": "markdown",
   "metadata": {},
   "source": [
    "model_m and model_b started off as random variables"
   ]
  },
  {
   "cell_type": "code",
   "execution_count": 85,
   "metadata": {},
   "outputs": [
    {
     "data": {
      "text/plain": [
       "0.52686852"
      ]
     },
     "execution_count": 85,
     "metadata": {},
     "output_type": "execute_result"
    }
   ],
   "source": [
    "model_m\n"
   ]
  },
  {
   "cell_type": "code",
   "execution_count": 86,
   "metadata": {},
   "outputs": [
    {
     "data": {
      "text/plain": [
       "5.0572796"
      ]
     },
     "execution_count": 86,
     "metadata": {},
     "output_type": "execute_result"
    }
   ],
   "source": [
    "model_b"
   ]
  },
  {
   "cell_type": "code",
   "execution_count": 87,
   "metadata": {
    "collapsed": true
   },
   "outputs": [],
   "source": [
    "y_hat= x_data * model_m + model_b"
   ]
  },
  {
   "cell_type": "code",
   "execution_count": 92,
   "metadata": {},
   "outputs": [
    {
     "data": {
      "text/plain": [
       "[<matplotlib.lines.Line2D at 0x1fff4031668>]"
      ]
     },
     "execution_count": 92,
     "metadata": {},
     "output_type": "execute_result"
    },
    {
     "data": {
      "image/png": "[encoded data removed]",
      "text/plain": [
       "<matplotlib.figure.Figure at 0x1fff4031240>"
      ]
     },
     "metadata": {},
     "output_type": "display_data"
    }
   ],
   "source": [
    "my_data.sample(250).plot(kind='scatter',x='X Data',y='Y')\n",
    "plt.plot(x_data,y_hat,'r')"
   ]
  },
  {
   "cell_type": "markdown",
   "metadata": {},
   "source": [
    "Doing the TEST_TRAIN_SPLIt"
   ]
  },
  {
   "cell_type": "markdown",
   "metadata": {},
   "source": [
    "# Estimator API ( Keras, Layers, to be used later)"
   ]
  },
  {
   "cell_type": "code",
   "execution_count": null,
   "metadata": {
    "collapsed": true
   },
   "outputs": [],
   "source": []
  }
 ],
 "metadata": {
  "kernelspec": {
   "display_name": "Python 3",
   "language": "python",
   "name": "python3"
  },
  "language_info": {
   "codemirror_mode": {
    "name": "ipython",
    "version": 3
   },
   "file_extension": ".py",
   "mimetype": "text/x-python",
   "name": "python",
   "nbconvert_exporter": "python",
   "pygments_lexer": "ipython3",
   "version": "3.5.4"
  }
 },
 "nbformat": 4,
 "nbformat_minor": 2
}
